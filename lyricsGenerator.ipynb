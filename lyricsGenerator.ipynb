{
 "cells": [
  {
   "attachments": {},
   "cell_type": "markdown",
   "metadata": {},
   "source": [
    "# Can a language model rap like Eminem?\n",
    "## Lyrics Generator using Markov Chains"
   ]
  },
  {
   "attachments": {},
   "cell_type": "markdown",
   "metadata": {},
   "source": [
    "Nowadays, natural language processing (NLP), especially language models, are all around us. Without learning language or defining fixed rules it is pretty amazing how well they can generate new content also including art. This is a hotly debated topic [Towards Science: AI Art Debate](https://towardsdatascience.com/the-ai-art-debate-excitement-fear-and-ethics-c04d30f338da). Besides the ethical discussion, language models open up a large field of use cases. For example in combination with data sources containing lyrics, songs could be generated. The aim of this project work is to analyze songs from one specific artist and try to generate more lyrics which could be sold as new songs. Not only the simple generation would be interesting, but also how to generate ryhmes by using an Markov Chains."
   ]
  },
  {
   "attachments": {},
   "cell_type": "markdown",
   "metadata": {},
   "source": [
    "## Authentication\n",
    "To get correct lyrics in an consistent format, the [Genius API](https://docs.genius.com/) is used. Therefore a oAuth process is required. In the Genius API, an client needs to be created in order to get an access token for authentication. By using the python package [Lyricsgenius](https://lyricsgenius.readthedocs.io/en/master/) all endpoints concerning artists and songs can be called easily inside of the code."
   ]
  },
  {
   "cell_type": "code",
   "execution_count": 1,
   "metadata": {},
   "outputs": [],
   "source": [
    "import lyricsgenius"
   ]
  },
  {
   "cell_type": "code",
   "execution_count": 2,
   "metadata": {},
   "outputs": [],
   "source": [
    "ACCESS_TOKEN = ''\n",
    "ARTIST = \"Eminem\""
   ]
  },
  {
   "cell_type": "code",
   "execution_count": 3,
   "metadata": {},
   "outputs": [],
   "source": [
    "geniusAPI = lyricsgenius.Genius(ACCESS_TOKEN)"
   ]
  },
  {
   "attachments": {},
   "cell_type": "markdown",
   "metadata": {},
   "source": [
    "## Collecting data"
   ]
  },
  {
   "attachments": {},
   "cell_type": "markdown",
   "metadata": {},
   "source": [
    "First of all, we check whether the artist is available in the API. In respect to the response time from the server, we need to search the song list first and do an individual api call for each song lyrics."
   ]
  },
  {
   "cell_type": "code",
   "execution_count": 4,
   "metadata": {},
   "outputs": [
    {
     "name": "stdout",
     "output_type": "stream",
     "text": [
      "Searching for songs by Eminem...\n",
      "\n",
      "Song 1: \"Rap God\"\n",
      "\n",
      "Reached user-specified song limit (1).\n",
      "Done. Found 1 songs.\n"
     ]
    },
    {
     "data": {
      "text/plain": [
       "Artist(id, songs, ...)"
      ]
     },
     "execution_count": 4,
     "metadata": {},
     "output_type": "execute_result"
    }
   ],
   "source": [
    "artist = geniusAPI.search_artist(ARTIST, max_songs=1)\n",
    "artist"
   ]
  },
  {
   "cell_type": "code",
   "execution_count": 5,
   "metadata": {},
   "outputs": [],
   "source": [
    "songList = geniusAPI.artist_songs(artist.id, per_page=50)"
   ]
  },
  {
   "cell_type": "code",
   "execution_count": 6,
   "metadata": {},
   "outputs": [
    {
     "name": "stdout",
     "output_type": "stream",
     "text": [
      "Couldn't find the lyrics section. Please report this if the song has lyrics.\n",
      "Song URL: https://genius.com/Shabaam-sahdeeq-5-star-generals-instrumental-lyrics\n",
      "Couldn't find the lyrics section. Please report this if the song has lyrics.\n",
      "Song URL: https://genius.com/Eminem-8-mile-instrumental-lyrics\n",
      "Couldn't find the lyrics section. Please report this if the song has lyrics.\n",
      "Song URL: https://genius.com/Jay-z-8-miles-and-runnin-instrumental-lyrics\n"
     ]
    }
   ],
   "source": [
    "songs = []\n",
    "for song in songList['songs']:\n",
    "    if song['lyrics_state'] == 'complete': # check if the lyrics is available\n",
    "        songs.append(geniusAPI.lyrics(song['id']))"
   ]
  },
  {
   "attachments": {},
   "cell_type": "markdown",
   "metadata": {},
   "source": [
    "In order to get some randomness into the data, shuffle is used."
   ]
  },
  {
   "cell_type": "code",
   "execution_count": 7,
   "metadata": {},
   "outputs": [],
   "source": [
    "import random"
   ]
  },
  {
   "cell_type": "code",
   "execution_count": 8,
   "metadata": {},
   "outputs": [],
   "source": [
    "random.shuffle(songs)"
   ]
  },
  {
   "attachments": {},
   "cell_type": "markdown",
   "metadata": {},
   "source": [
    "## Preprocessing\n",
    "In this section, all unnecessary information is removed to get the pure lyrics string. While working with language models, most of the time line breaks are removed. But for rhymes those breaks are important. That is why we leave them in the text."
   ]
  },
  {
   "cell_type": "code",
   "execution_count": 9,
   "metadata": {},
   "outputs": [],
   "source": [
    "import re"
   ]
  },
  {
   "cell_type": "code",
   "execution_count": 10,
   "metadata": {},
   "outputs": [
    {
     "data": {
      "text/plain": [
       "\"8 Mile: B-Rabbit vs Supa Emcee Lyrics[Eminem (as B-Rabbit)]\\n...\\n\\n[Supa Emcee]\\nHey, yo, what up, trailer trash?\\nYo, Future, how'd you get whitey to battle the Savior?\\nThat's like Darth Vader battling Obey Taylor\\nYou can't mess around with the horror\\nI grab the mic and I'ma murder you, now you'll die tomorrow!\\nYou can't kick with the lyrics I spit\\nI blow your head off and leave you dying in your blood, you bitch!\\nYou still a trick and a hoe and I'ma roll\\nI fucked your mama; she's a prostitute, bro!\\nYou thinking you white, but you ain't light\\nI'ma murder you in the gang again, and blast you in the night!\\nI'm still ill, I'm still for real with Ken Loraine\\nI got a gun on your boy, I'ma blow out his brain!\\nYou run with a bunch of wack faggots\\nI'ma eat out your meat like I'm in your body: I'm a maggot!\\nAnd yo, matter of fact, you gettin' played\\nYou ain't nothing but a white boy dying of fucking AIDS!You might also like1Embed\""
      ]
     },
     "execution_count": 10,
     "metadata": {},
     "output_type": "execute_result"
    }
   ],
   "source": [
    "songs[0]"
   ]
  },
  {
   "attachments": {},
   "cell_type": "markdown",
   "metadata": {},
   "source": [
    "After checking the first element in the lyrics list, we can see that ther is a first section which contains title information. Important section inside of the song such as Intro and Chorus are marked with brackets. In addition to that, at the end there is always a number in combination with the word \"Embeded\". Such information is not useful for the language model. That is why I am removing such content in the preprocessing step using regex."
   ]
  },
  {
   "cell_type": "code",
   "execution_count": 11,
   "metadata": {},
   "outputs": [],
   "source": [
    "def cleaning(lyrics) -> str:\n",
    "    # first translation information\n",
    "    lyrics = re.sub(r\"^[^_]* Lyrics\", \"\",lyrics)\n",
    "    # song sections\n",
    "    lyrics = re.sub(r\"(\\[.*?\\])\", \"\", lyrics)\n",
    "    # Embed information at the end \n",
    "    return re.sub(r\"((\\d.?\\dK?)?Embed)\", \"\", lyrics)"
   ]
  },
  {
   "cell_type": "code",
   "execution_count": 12,
   "metadata": {},
   "outputs": [],
   "source": [
    "cleaned_lyrics = [cleaning(lyric) for lyric in songs if type(lyric) == str]"
   ]
  },
  {
   "cell_type": "code",
   "execution_count": 13,
   "metadata": {},
   "outputs": [
    {
     "name": "stdout",
     "output_type": "stream",
     "text": [
      "Available cleaned songs: 44\n"
     ]
    }
   ],
   "source": [
    "print(\"Available cleaned songs:\", len(cleaned_lyrics))"
   ]
  },
  {
   "attachments": {},
   "cell_type": "markdown",
   "metadata": {},
   "source": [
    "## Model generation\n",
    "After the data cleaning is completed, the input text is ready to be processed by the model."
   ]
  },
  {
   "cell_type": "code",
   "execution_count": 14,
   "metadata": {},
   "outputs": [],
   "source": [
    "import uuid"
   ]
  },
  {
   "attachments": {},
   "cell_type": "markdown",
   "metadata": {},
   "source": [
    "To be able to analyze the generated text afterwards, an unique id is used to save input and output text."
   ]
  },
  {
   "cell_type": "code",
   "execution_count": 15,
   "metadata": {},
   "outputs": [
    {
     "data": {
      "text/plain": [
       "'96fcc2c6-1fc3-490b-9409-f578cef8da02'"
      ]
     },
     "execution_count": 15,
     "metadata": {},
     "output_type": "execute_result"
    }
   ],
   "source": [
    "uuid_song = str(uuid.uuid4())\n",
    "uuid_song"
   ]
  },
  {
   "attachments": {},
   "cell_type": "markdown",
   "metadata": {},
   "source": [
    "By joining all song lyrics, we get the basic corpus for the Markov Chain. See the next section for a detailed description."
   ]
  },
  {
   "cell_type": "code",
   "execution_count": 16,
   "metadata": {},
   "outputs": [],
   "source": [
    "input_text = ' '.join(cleaned_lyrics)\n",
    "file = open('input_text/' + uuid_song + \".txt\", \"w\")\n",
    "file.write(input_text)\n",
    "file.close()"
   ]
  },
  {
   "attachments": {},
   "cell_type": "markdown",
   "metadata": {},
   "source": [
    "### Markov Chains\n",
    "Markov chains are useful mathematical models that use concepts from probability and matrix algebra to generate text. While training the Markov Chain, a matrix is generated which calculates the probability of the next word or character based on the previous used text. \\\n",
    "See: [An Introduction to Markov Chains](http://dx.doi.org/10.13140/2.1.1833.8248)"
   ]
  },
  {
   "attachments": {},
   "cell_type": "markdown",
   "metadata": {},
   "source": [
    "#### Word-based generation vs Character-based generation\n",
    "There are two possible ways to create an Markov Chain. For word-based models, the probability of the next word is calculated. While in the character-based approach each character is weighted individually. \\\n",
    "One side effect of word-based generation is that the vocabulary only includes words which are already known. This can be tricky for lyrics generation, because sometimes for ryhme purposes a new word can be created or a word from another language can be used. Even though I don't think that this model is able to create new words, it would be better to use the character-based approach.\n",
    "Another reason why I choose a character-based models are the line breaks. While looking at a song text, one can see that the lines define the rhyme. This generation can be achieved easier by generating characters."
   ]
  },
  {
   "cell_type": "code",
   "execution_count": 17,
   "metadata": {},
   "outputs": [],
   "source": [
    "def getTransitionTable(data, k = 4):#if X is the sequence of 'k = 3' and Y is predicted character or k+1 the character\n",
    "    T = {} #making an empty dictionary\n",
    "    \n",
    "    for i in range(len(data) - k):\n",
    "        X = data[i:i+k]\n",
    "        Y = data[i+k]\n",
    "# making dictornary for each after word and new that are not in dict of x(transition dict)\n",
    "        if T.get(X) is None:\n",
    "            T[X] = {}\n",
    "            T[X][Y] = 1\n",
    "        else:\n",
    "            if T[X].get(Y) is None: #checking is y is not present or notin Transition Dictonary(x)\n",
    "                T[X][Y] = 1\n",
    "            else:\n",
    "                T[X][Y] +=1\n",
    "    \n",
    "    return T"
   ]
  },
  {
   "attachments": {},
   "cell_type": "markdown",
   "metadata": {},
   "source": [
    "The transition table helps us to get an overview over all available characters in the dictionary and their current frequency in the input text (corpus). The variable *k* defines the number of characters which are considered for the selection of the next character. That is why this variable defines the dimension of our transition table."
   ]
  },
  {
   "cell_type": "code",
   "execution_count": 18,
   "metadata": {},
   "outputs": [
    {
     "data": {
      "text/plain": [
       "[('\\n...', {'\\n': 1}),\n",
       " ('...\\n', {'\\n': 1, 'R': 1}),\n",
       " ('..\\n\\n', {'\\n': 1}),\n",
       " ('.\\n\\n\\n', {'H': 1}),\n",
       " ('\\n\\n\\nH', {'e': 2, 'o': 2}),\n",
       " ('\\n\\nHe', {'y': 2}),\n",
       " ('\\nHey', {',': 3, ' ': 4}),\n",
       " ('Hey,', {' ': 4}),\n",
       " ('ey, ', {'y': 1, 'w': 2, 't': 2, 'b': 1, \"'\": 1, 'T': 1, 'd': 4}),\n",
       " ('y, y', {'o': 7, 'e': 3})]"
      ]
     },
     "execution_count": 18,
     "metadata": {},
     "output_type": "execute_result"
    }
   ],
   "source": [
    "lyrics_transition_table = getTransitionTable(input_text, k = 4)\n",
    "# show first 50 items\n",
    "list(lyrics_transition_table.items())[0:10]"
   ]
  },
  {
   "cell_type": "code",
   "execution_count": 19,
   "metadata": {},
   "outputs": [],
   "source": [
    "def convertFreqIntoProb(T):\n",
    "    for kx in T.keys():\n",
    "        s = float(sum(T[kx].values()))\n",
    "        for k in T[kx].keys():\n",
    "            T[kx][k] = T[kx][k]/s\n",
    "            \n",
    "    return T"
   ]
  },
  {
   "attachments": {},
   "cell_type": "markdown",
   "metadata": {},
   "source": [
    "In order to get a probability for the each character or character group, the frequency is used."
   ]
  },
  {
   "cell_type": "code",
   "execution_count": 20,
   "metadata": {},
   "outputs": [
    {
     "data": {
      "text/plain": [
       "[('\\n...', {'\\n': 1.0}),\n",
       " ('...\\n', {'\\n': 0.5, 'R': 0.5}),\n",
       " ('..\\n\\n', {'\\n': 1.0}),\n",
       " ('.\\n\\n\\n', {'H': 1.0}),\n",
       " ('\\n\\n\\nH', {'e': 0.5, 'o': 0.5}),\n",
       " ('\\n\\nHe', {'y': 1.0}),\n",
       " ('\\nHey', {',': 0.42857142857142855, ' ': 0.5714285714285714}),\n",
       " ('Hey,', {' ': 1.0}),\n",
       " ('ey, ',\n",
       "  {'y': 0.08333333333333333,\n",
       "   'w': 0.16666666666666666,\n",
       "   't': 0.16666666666666666,\n",
       "   'b': 0.08333333333333333,\n",
       "   \"'\": 0.08333333333333333,\n",
       "   'T': 0.08333333333333333,\n",
       "   'd': 0.3333333333333333}),\n",
       " ('y, y', {'o': 0.7, 'e': 0.3})]"
      ]
     },
     "execution_count": 20,
     "metadata": {},
     "output_type": "execute_result"
    }
   ],
   "source": [
    "char_model = convertFreqIntoProb(lyrics_transition_table)\n",
    "list(char_model.items())[0:10]"
   ]
  },
  {
   "attachments": {},
   "cell_type": "markdown",
   "metadata": {},
   "source": [
    "## Lyrics generation\n",
    "By using this probability table, our new lyrics can be generated."
   ]
  },
  {
   "cell_type": "code",
   "execution_count": 21,
   "metadata": {},
   "outputs": [],
   "source": [
    "import numpy as np"
   ]
  },
  {
   "cell_type": "code",
   "execution_count": 22,
   "metadata": {},
   "outputs": [],
   "source": [
    "def sample_next(context, T, k = 4):\n",
    "    context = context[-k:] #AS WE are predict next char from last k char \n",
    "    \n",
    "    \n",
    "    if T.get(context) is None:\n",
    "        return ' '\n",
    "    \n",
    "    possible_chars = list(T[context].keys())\n",
    "    possible_probabs = list(T[context].values())\n",
    "    \n",
    "    return np.random.choice(possible_chars, p =possible_probabs )"
   ]
  },
  {
   "cell_type": "code",
   "execution_count": 23,
   "metadata": {},
   "outputs": [],
   "source": [
    "def generateText(starting_sent,T, k = 4, max_len = 100):\n",
    "    sentence = starting_sent\n",
    "    \n",
    "    context = sentence[-k:]\n",
    "    \n",
    "    for i in range(max_len):\n",
    "        next_pred = sample_next(context, T, k)\n",
    "        sentence += next_pred\n",
    "        context = sentence[-k:]\n",
    "        \n",
    "    return sentence"
   ]
  },
  {
   "attachments": {},
   "cell_type": "markdown",
   "metadata": {},
   "source": [
    "By check the mean lyrics length of Eminem songs we can find our new lyrics max length."
   ]
  },
  {
   "cell_type": "code",
   "execution_count": 24,
   "metadata": {},
   "outputs": [
    {
     "data": {
      "text/plain": [
       "3269.0454545454545"
      ]
     },
     "execution_count": 24,
     "metadata": {},
     "output_type": "execute_result"
    }
   ],
   "source": [
    "lens = [len(lyric) for lyric in cleaned_lyrics]\n",
    "np.mean(lens)"
   ]
  },
  {
   "attachments": {},
   "cell_type": "markdown",
   "metadata": {},
   "source": [
    "For the text generation, we leave our *k* with 4. This means that we need at least 4 input characters to be able to generate new content."
   ]
  },
  {
   "cell_type": "code",
   "execution_count": 29,
   "metadata": {},
   "outputs": [],
   "source": [
    "lyrics_predict = generateText(\"Slim \", char_model, max_len=4000, k=4)"
   ]
  },
  {
   "cell_type": "code",
   "execution_count": 30,
   "metadata": {},
   "outputs": [
    {
     "name": "stdout",
     "output_type": "stream",
     "text": [
      "Slim Shady, 1999, that I got Jimmy main them like 2Pac write to yo know you win, toting my rapped up with a Labrador\n",
      "It's whites off with a rap flow\n",
      "Tell suckers, rank what\n",
      "It prayin', good the bitch in to driven here weak, you can applaudient can get words of check it\n",
      "Got againstin' smash it\n",
      "Like a man, I was havior's alries and a ho\n",
      "Now, so big signed, this what 45, full raw\n",
      "\n",
      "Woo, okay. 313?\n",
      "None of my lected at their find\n",
      "Pull over yourse\n",
      "In a cyclone\n",
      "(I'm 'bout hole to a basemental\n",
      "Sittin'\n",
      "Put my eighborhood's\n",
      "Just cracked him while I'm guaranoid\n",
      "Quicks\n",
      "Fuck is nothink the Jay Dee\n",
      "I see that I'ma walk with? Your sque on, feel and the mask off that your housand\n",
      "Bodies he?\"\n",
      "That shit quick with should've he's the Marley\n",
      "Peace to foot a need it\n",
      "Althought for Never life way I'ma be extremember\n",
      "Dresden\n",
      "When you hatever that shing a cyclone\n",
      "All the seriod out \"7 Mile I'm spittin', Shady\n",
      "1999, will I need spittin' you're way to say it's clothermon, you stayed pistol have the Alabama and\n",
      "I don't wanna support for really get start I don't was with short of my needs, won't undernea, better, I'm gon' demon\n",
      "5. \"Fuck with the 313?\n",
      "None (Get a manteed of all you\n",
      "And kinds On Me (My matter rat's rock this become from a petiteSeasonald's go?\n",
      "When Glock water\n",
      "December rappeller, she's eyes I slay hate harderin' together necklace\n",
      "He got my fist!\n",
      "And if yo' vengeance, wake 'em\n",
      "\n",
      "\n",
      "Yo, I was versions to brother scared in legs in trust as a messageway\n",
      "And graduate\n",
      "(Yeah\")\n",
      "And mean catch it, cause truth show, so higher side -ick\"? Here grams, you, brim tired, or style\n",
      "I bless pity front so live dome\n",
      "Drest razor stand it\n",
      "Y'all, Walsh\n",
      "With my from then I'm after prostill smack the molecules\n",
      "Me is like that, look\n",
      "Now, but chrome morning and ain't want mean very front of this shot vict'd\n",
      "So battling and we ourself-esters and\n",
      "Wait, you can\n",
      "Wherevery times who's they brain or bottom Iraq\n",
      "And then I can leg\n",
      "Snatch wrather it\n",
      "Cause balance like award\n",
      "I know we came drunk\n",
      "Try that lace in here I'm slow that I got sometime for them you at theft\n",
      "But thing down, back\n",
      "Today, I must below, wake a Tempty ass whole molecules that\n",
      "No you\n",
      "That's no like Krugers at there's the some found land actorsAre a sock\n",
      "\n",
      "Must by LL Cool like\n",
      "Pour with our squares\n",
      "From Meeko\n",
      "The snippetite a renegativeling you this as a little, truth start and come for me\n",
      "Nobody was got now)\n",
      "(8 Mile I'm spin with rugget, so fashion\n",
      "To beef is and hop a sten, you belluminati is wack the 40\n",
      "Mixed in the way to think his mothers cautifull of the crack this:\n",
      "Fuck slut's just I was Rock with a firm in floor and rappers now how demo; kid nothere and be breeze a chamber, it's just talent flick-lick, I'll bad a game, very can't prodigal soft anyway)\n",
      "Ain't give my textbook; ever see you but the brain’s dull of come pot, hit you with bitches this greestyle getting to that's gonna with us. Tell 'em hide of mine's Greg Buehl\n",
      "Me, want it get was wildin' all be this mother had hit ya\n",
      "You know about (Guzzle it, niggas outta the born\n",
      "Put you spool\n",
      "Droppin'\n",
      "Distrain, making the come cock\n",
      "I crunch one him overdose of this\n",
      "You out, can't planta, man take 'em move me to fooligan with the secretendering the corral soon barbiturate for that\n",
      "\n",
      "\n",
      "Acid tab, I'll told us free\n",
      "That the roads the first sing you all oversus my facts\n",
      "I laughts\n",
      "Cause I ain't down\n",
      "Then you goin'\n",
      "That you\n",
      "All taking\n",
      "Yo if I ain't sacreditate\n",
      "(Yeah\n",
      "\n",
      "\n",
      "Dippin'\n",
      "Said so\n",
      "Now we ain't be granules\n",
      "So what's easy told a fist these paints in a balls, run\n",
      "And mucus\n",
      "Swallergic trap before you gotta rep my worms and phat more, I'm overdoses up will with brave this fuck ya most off the moral\n",
      "Without the last take a comin' no low is out my fingers\n",
      "Then with Jimmy\n",
      "Don't good, but one holding with album clique power of you seen 'victims fuck them down, I know I be the sometimes into mornin'\n",
      "As I mean the flame me tonight, it's times to fill a necklace Loung full overdose it\n",
      "This black\n",
      "Green 'viction of clippin' shit yawning it esser\n",
      "I apologne mad bodies hot\n",
      "You kno\n"
     ]
    }
   ],
   "source": [
    "file = open('output_text/' + uuid_song + \".txt\", \"w\")\n",
    "file.write(lyrics_predict)\n",
    "file.close()\n",
    "print(lyrics_predict)"
   ]
  },
  {
   "attachments": {},
   "cell_type": "markdown",
   "metadata": {},
   "source": [
    "## Conclusion and Further work\n",
    "Markov Chains are a great way to generate text language independent. Two big advantages by using this method are that there is no need for large input data and that the compution time for the model is very short. I think it is quite amazing how fast a language model can learn about sentences and grammar. \\\n",
    "By looking at our results, the model was able to use line breaks which structures our generated lyrics very well. Nevertheless, there is lots of room for improvement. One can hardly find ryhmes in the text and there is no context in the song text. \\\n",
    "One approach would be to change the hyperparamter *k* to get more related text lines. It is questionable whether by using larger character groups already existing phrases of songs will be reused as a result. Another idea would be to investigate more time in the preprocessing. One could analyze the ryhmes of the existing songs and select only unison rhymes as input text. I think that double rhymes or cross rhymes confuses the model because the connection of the text lines are too far apart. \\\n",
    "To sum up, I am happy with the result and I think that with more preprocessing or hyperparameter tuning a language model could rap like Eminem. Even if it takes a lot more than rhymes to create new songs."
   ]
  },
  {
   "attachments": {},
   "cell_type": "markdown",
   "metadata": {},
   "source": [
    "Git Repo: [Lyrics Generator](https://github.com/lauragregorc/lyrics-generator) \n",
    "\n",
    "References: \n",
    "- [https://github.com/soniajoseph/MarkovLyric](https://github.com/soniajoseph/MarkovLyric) \n",
    "- [https://lyricsgenius.readthedocs.io](https://lyricsgenius.readthedocs.io) \n",
    "- [https://docs.genius.com/](https://docs.genius.com/) \n",
    "- [https://github.com/aryangulati/Character-Based-Language-Model](https://github.com/aryangulati/Character-Based-Language-Model) \n",
    "- [An Introduction to Markov Chains](http://dx.doi.org/10.13140/2.1.1833.8248)"
   ]
  }
 ],
 "metadata": {
  "kernelspec": {
   "display_name": "dat",
   "language": "python",
   "name": "python3"
  },
  "language_info": {
   "codemirror_mode": {
    "name": "ipython",
    "version": 3
   },
   "file_extension": ".py",
   "mimetype": "text/x-python",
   "name": "python",
   "nbconvert_exporter": "python",
   "pygments_lexer": "ipython3",
   "version": "3.10.6"
  },
  "orig_nbformat": 4,
  "vscode": {
   "interpreter": {
    "hash": "6177921d6dbe40f2bc44eae3a982408083db2dd1b6c3aa89d1cebb546f6ba67b"
   }
  }
 },
 "nbformat": 4,
 "nbformat_minor": 2
}
