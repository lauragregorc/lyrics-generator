{
 "cells": [
  {
   "attachments": {},
   "cell_type": "markdown",
   "metadata": {},
   "source": [
    "# Can a language model rap like Eminem?\n",
    "## Lyrics Generator using Markov Chains"
   ]
  },
  {
   "attachments": {},
   "cell_type": "markdown",
   "metadata": {},
   "source": [
    "Nowadays, natural language processing (NLP), especially language models, are all around us. Without learning language or defining fixed rules it is pretty amazing how well they can generate new content also including art. This is a hotly debated topic [Towards Science: AI Art Debate](https://towardsdatascience.com/the-ai-art-debate-excitement-fear-and-ethics-c04d30f338da). Besides the ethical discussion, language models open up a large field of use cases. For example in combination with data sources containing lyrics, songs could be generated. The aim of this project work is to analyze songs from one specific artist and try to generate more lyrics which could be sold as new songs. Not only the simple generation would be interesting, but also how to generate ryhmes by using an Markov Chains."
   ]
  },
  {
   "attachments": {},
   "cell_type": "markdown",
   "metadata": {},
   "source": [
    "## Authentication\n",
    "To get correct lyrics in an consistent format, the [Genius API](https://docs.genius.com/) is used. Therefore a oAuth process is required. In the Genius API, an client needs to be created in order to get an access token for authentication. By using the python package [Lyricsgenius](https://lyricsgenius.readthedocs.io/en/master/) all endpoints concerning artists and songs can be called easily inside of the code."
   ]
  },
  {
   "cell_type": "code",
   "execution_count": 1,
   "metadata": {},
   "outputs": [],
   "source": [
    "import lyricsgenius"
   ]
  },
  {
   "cell_type": "code",
   "execution_count": 2,
   "metadata": {},
   "outputs": [],
   "source": [
    "ACCESS_TOKEN = ''\n",
    "ARTIST = \"Eminem\""
   ]
  },
  {
   "cell_type": "code",
   "execution_count": 3,
   "metadata": {},
   "outputs": [],
   "source": [
    "geniusAPI = lyricsgenius.Genius(ACCESS_TOKEN)"
   ]
  },
  {
   "attachments": {},
   "cell_type": "markdown",
   "metadata": {},
   "source": [
    "## Collecting data"
   ]
  },
  {
   "attachments": {},
   "cell_type": "markdown",
   "metadata": {},
   "source": [
    "First of all, we check whether the artist is available in the API. In respect to the response time from the server, we need to search the song list first and do an individual api call for each song lyrics."
   ]
  },
  {
   "cell_type": "code",
   "execution_count": 4,
   "metadata": {},
   "outputs": [
    {
     "name": "stdout",
     "output_type": "stream",
     "text": [
      "Searching for songs by Eminem...\n",
      "\n",
      "Song 1: \"Rap God\"\n",
      "\n",
      "Reached user-specified song limit (1).\n",
      "Done. Found 1 songs.\n"
     ]
    },
    {
     "data": {
      "text/plain": [
       "Artist(id, songs, ...)"
      ]
     },
     "execution_count": 4,
     "metadata": {},
     "output_type": "execute_result"
    }
   ],
   "source": [
    "artist = geniusAPI.search_artist(ARTIST, max_songs=1)\n",
    "artist"
   ]
  },
  {
   "cell_type": "code",
   "execution_count": 5,
   "metadata": {},
   "outputs": [],
   "source": [
    "songList = geniusAPI.artist_songs(artist.id, per_page=50)"
   ]
  },
  {
   "cell_type": "code",
   "execution_count": 6,
   "metadata": {},
   "outputs": [
    {
     "name": "stdout",
     "output_type": "stream",
     "text": [
      "Couldn't find the lyrics section. Please report this if the song has lyrics.\n",
      "Song URL: https://genius.com/Shabaam-sahdeeq-5-star-generals-instrumental-lyrics\n",
      "Couldn't find the lyrics section. Please report this if the song has lyrics.\n",
      "Song URL: https://genius.com/Eminem-8-mile-instrumental-lyrics\n",
      "Couldn't find the lyrics section. Please report this if the song has lyrics.\n",
      "Song URL: https://genius.com/Jay-z-8-miles-and-runnin-instrumental-lyrics\n"
     ]
    }
   ],
   "source": [
    "songs = []\n",
    "for song in songList['songs']:\n",
    "    if song['lyrics_state'] == 'complete': # check if the lyrics is available\n",
    "        songs.append(geniusAPI.lyrics(song['id']))"
   ]
  },
  {
   "attachments": {},
   "cell_type": "markdown",
   "metadata": {},
   "source": [
    "In order to get some randomness into the data, shuffle is used."
   ]
  },
  {
   "cell_type": "code",
   "execution_count": 7,
   "metadata": {},
   "outputs": [],
   "source": [
    "import random"
   ]
  },
  {
   "cell_type": "code",
   "execution_count": 8,
   "metadata": {},
   "outputs": [],
   "source": [
    "random.shuffle(songs)"
   ]
  },
  {
   "attachments": {},
   "cell_type": "markdown",
   "metadata": {},
   "source": [
    "## Preprocessing\n",
    "In this section, all unnecessary information is removed to get the pure lyrics string. While working with language models, most of the time line breaks are removed. But for rhymes those breaks are important. That is why we leave them in the text."
   ]
  },
  {
   "cell_type": "code",
   "execution_count": 9,
   "metadata": {},
   "outputs": [],
   "source": [
    "import re"
   ]
  },
  {
   "cell_type": "code",
   "execution_count": 10,
   "metadata": {},
   "outputs": [
    {
     "data": {
      "text/plain": [
       "'2nd Round Freestyle Lyrics[Intro]\\nClinton Sparks\\n(\"Obie Trice\" \"Yeah\")\\nAnger Management 3 (Get familiar, that\\'s right)\\nShady\\nHahaha (Shoutout to Ireland\\nScotland, London) Obie\\u2005Trice\\nSecond\\u2005Rounds On Me\\u2005(My man Tim Westwood) Hahaha (DJ\\u2005Semtex)\\n(Real DJ, bitches) New album coming this summer\\nI know you been waitin\\' ([?])\\n[Verse]\\nYeah\\nI’m back to business, back to them classic hits\\nMacking bitches in the massive whips\\nSubtracting other rappers chips, \\'cause I’m actually\\nWhat’s happening, these other cats talent is shit\\nI’m talented as shit, bringing gallons with me, man, I’m so sick\\nIt’s like a challenge every time that I spit\\nSo how do you balance these amateurs with a graduate\\n[?], no candidate could ever exist\\nThis ain\\'t Canada, ni-nigga, this \\'caine carrying\\nHand on a fifth, came in the game wearing the same fit\\nMy funny shit, you niggas took it extreme there (Yeah)\\nYou still catch a couple of clips up in your Spring wear\\nOn the scuffle tip [?]You might also likeEmbed'"
      ]
     },
     "execution_count": 10,
     "metadata": {},
     "output_type": "execute_result"
    }
   ],
   "source": [
    "songs[0]"
   ]
  },
  {
   "attachments": {},
   "cell_type": "markdown",
   "metadata": {},
   "source": [
    "After checking the first element in the lyrics list, we can see that ther is a first section which contains title information. Important section inside of the song such as Intro and Chorus are marked with brackets. In addition to that, at the end there is always a number in combination with the word \"Embeded\". Such information is not useful for the language model. That is why I am removing such content in the preprocessing step using regex."
   ]
  },
  {
   "cell_type": "code",
   "execution_count": 11,
   "metadata": {},
   "outputs": [],
   "source": [
    "def cleaning(lyrics) -> str:\n",
    "    # first translation information\n",
    "    lyrics = re.sub(r\"^[^_]* Lyrics\", \"\",lyrics)\n",
    "    # song sections\n",
    "    lyrics = re.sub(r\"(\\[.*?\\])\", \"\", lyrics)\n",
    "    # Embed information at the end \n",
    "    return re.sub(r\"((\\d.?\\dK?)?Embed)\", \"\", lyrics)"
   ]
  },
  {
   "cell_type": "code",
   "execution_count": 12,
   "metadata": {},
   "outputs": [],
   "source": [
    "cleaned_lyrics = [cleaning(lyric) for lyric in songs if type(lyric) == str]"
   ]
  },
  {
   "cell_type": "code",
   "execution_count": 13,
   "metadata": {},
   "outputs": [
    {
     "name": "stdout",
     "output_type": "stream",
     "text": [
      "Available cleaned songs: 44\n"
     ]
    }
   ],
   "source": [
    "print(\"Available cleaned songs:\", len(cleaned_lyrics))"
   ]
  },
  {
   "attachments": {},
   "cell_type": "markdown",
   "metadata": {},
   "source": [
    "## Model generation\n",
    "After the data cleaning is completed, the input text is ready to be processed by the model."
   ]
  },
  {
   "cell_type": "code",
   "execution_count": 14,
   "metadata": {},
   "outputs": [],
   "source": [
    "import uuid"
   ]
  },
  {
   "attachments": {},
   "cell_type": "markdown",
   "metadata": {},
   "source": [
    "To be able to analyze the generated text afterwards, an unique id is used to save input and output text."
   ]
  },
  {
   "cell_type": "code",
   "execution_count": 15,
   "metadata": {},
   "outputs": [
    {
     "data": {
      "text/plain": [
       "'41476e3a-df2d-47b1-ae9e-4ee1b9b7870f'"
      ]
     },
     "execution_count": 15,
     "metadata": {},
     "output_type": "execute_result"
    }
   ],
   "source": [
    "uuid_song = str(uuid.uuid4())\n",
    "uuid_song"
   ]
  },
  {
   "attachments": {},
   "cell_type": "markdown",
   "metadata": {},
   "source": [
    "By joining all song lyrics, we get the basic corpus for the Markov Chain. See the next section for a detailed description."
   ]
  },
  {
   "cell_type": "code",
   "execution_count": 16,
   "metadata": {},
   "outputs": [],
   "source": [
    "input_text = ' '.join(cleaned_lyrics)\n",
    "file = open('input_text/' + uuid_song + \".txt\", \"w\")\n",
    "file.write(input_text)\n",
    "file.close()"
   ]
  },
  {
   "attachments": {},
   "cell_type": "markdown",
   "metadata": {},
   "source": [
    "### Markov Chains\n",
    "Markov chains are useful mathematical models that use concepts from probability and matrix algebra to generate text. While training the Markov Chain, a matrix is generated which calculates the probability of the next word or character based on the previous used text. \\\n",
    "See: [An Introduction to Markov Chains](http://dx.doi.org/10.13140/2.1.1833.8248)"
   ]
  },
  {
   "attachments": {},
   "cell_type": "markdown",
   "metadata": {},
   "source": [
    "#### Word-based generation vs Character-based generation\n",
    "There are two possible ways to create an Markov Chain. For word-based models, the probability of the next word is calculated. While in the character-based approach each character is weighted individually. \\\n",
    "One side effect of word-based generation is that the vocabulary only includes words which are already known. This can be tricky for lyrics generation, because sometimes for ryhme purposes a new word can be created or a word from another language can be used. Even though I don't think that this model is able to create new words, it would be better to use the character-based approach.\n",
    "Another reason why I choose a character-based models are the line breaks. While looking at a song text, one can see that the lines define the rhyme. This generation can be achieved easier by generating characters."
   ]
  },
  {
   "cell_type": "code",
   "execution_count": 17,
   "metadata": {},
   "outputs": [],
   "source": [
    "def getTransitionTable(data, k = 4):#if X is the sequence of 'k = 3' and Y is predicted character or k+1 the character\n",
    "    T = {} #making an empty dictionary\n",
    "    \n",
    "    for i in range(len(data) - k):\n",
    "        X = data[i:i+k]\n",
    "        Y = data[i+k]\n",
    "# making dictornary for each after word and new that are not in dict of x(transition dict)\n",
    "        if T.get(X) is None:\n",
    "            T[X] = {}\n",
    "            T[X][Y] = 1\n",
    "        else:\n",
    "            if T[X].get(Y) is None: #checking is y is not present or notin Transition Dictonary(x)\n",
    "                T[X][Y] = 1\n",
    "            else:\n",
    "                T[X][Y] +=1\n",
    "    \n",
    "    return T"
   ]
  },
  {
   "attachments": {},
   "cell_type": "markdown",
   "metadata": {},
   "source": [
    "The transition table helps us to get an overview over all available characters in the dictionary and their current frequency in the input text (corpus). The variable *k* defines the number of characters which are considered for the selection of the next character. That is why this variable defines the dimension of our transition table."
   ]
  },
  {
   "cell_type": "code",
   "execution_count": 18,
   "metadata": {},
   "outputs": [
    {
     "data": {
      "text/plain": [
       "[('\\nCli', {'n': 2, 'm': 1, 'p': 1}),\n",
       " ('Clin', {'t': 3}),\n",
       " ('lint', {'o': 3}),\n",
       " ('into', {'n': 3, ' ': 22}),\n",
       " ('nton', {' ': 2, '\\n': 1}),\n",
       " ('ton ', {'S': 1, 's': 3, 't': 1}),\n",
       " ('on S', {'p': 1}),\n",
       " ('n Sp', {'a': 2}),\n",
       " (' Spa', {'r': 1, 'n': 1}),\n",
       " ('Spar', {'k': 1})]"
      ]
     },
     "execution_count": 18,
     "metadata": {},
     "output_type": "execute_result"
    }
   ],
   "source": [
    "lyrics_transition_table = getTransitionTable(input_text, k = 4)\n",
    "# show first 50 items\n",
    "list(lyrics_transition_table.items())[0:10]"
   ]
  },
  {
   "cell_type": "code",
   "execution_count": 19,
   "metadata": {},
   "outputs": [],
   "source": [
    "def convertFreqIntoProb(T):\n",
    "    for kx in T.keys():\n",
    "        s = float(sum(T[kx].values()))\n",
    "        for k in T[kx].keys():\n",
    "            T[kx][k] = T[kx][k]/s\n",
    "            \n",
    "    return T"
   ]
  },
  {
   "attachments": {},
   "cell_type": "markdown",
   "metadata": {},
   "source": [
    "In order to get a probability for the each character or character group, the frequency is used."
   ]
  },
  {
   "cell_type": "code",
   "execution_count": 20,
   "metadata": {},
   "outputs": [
    {
     "data": {
      "text/plain": [
       "[('\\nCli', {'n': 0.5, 'm': 0.25, 'p': 0.25}),\n",
       " ('Clin', {'t': 1.0}),\n",
       " ('lint', {'o': 1.0}),\n",
       " ('into', {'n': 0.12, ' ': 0.88}),\n",
       " ('nton', {' ': 0.6666666666666666, '\\n': 0.3333333333333333}),\n",
       " ('ton ', {'S': 0.2, 's': 0.6, 't': 0.2}),\n",
       " ('on S', {'p': 1.0}),\n",
       " ('n Sp', {'a': 1.0}),\n",
       " (' Spa', {'r': 0.5, 'n': 0.5}),\n",
       " ('Spar', {'k': 1.0})]"
      ]
     },
     "execution_count": 20,
     "metadata": {},
     "output_type": "execute_result"
    }
   ],
   "source": [
    "char_model = convertFreqIntoProb(lyrics_transition_table)\n",
    "list(char_model.items())[0:10]"
   ]
  },
  {
   "attachments": {},
   "cell_type": "markdown",
   "metadata": {},
   "source": [
    "## Lyrics generation\n",
    "By using this probability table, our new lyrics can be generated."
   ]
  },
  {
   "cell_type": "code",
   "execution_count": 21,
   "metadata": {},
   "outputs": [],
   "source": [
    "import numpy as np"
   ]
  },
  {
   "cell_type": "code",
   "execution_count": 22,
   "metadata": {},
   "outputs": [],
   "source": [
    "def sample_next(context, T, k = 4):\n",
    "    context = context[-k:] #AS WE are predict next char from last k char \n",
    "    \n",
    "    \n",
    "    if T.get(context) is None:\n",
    "        return ' '\n",
    "    \n",
    "    possible_chars = list(T[context].keys())\n",
    "    possible_probabs = list(T[context].values())\n",
    "    \n",
    "    return np.random.choice(possible_chars, p =possible_probabs )"
   ]
  },
  {
   "cell_type": "code",
   "execution_count": 23,
   "metadata": {},
   "outputs": [],
   "source": [
    "def generateText(starting_sent,T, k = 4, max_len = 100):\n",
    "    sentence = starting_sent\n",
    "    \n",
    "    context = sentence[-k:]\n",
    "    \n",
    "    for i in range(max_len):\n",
    "        next_pred = sample_next(context, T, k)\n",
    "        sentence += next_pred\n",
    "        context = sentence[-k:]\n",
    "        \n",
    "    return sentence"
   ]
  },
  {
   "attachments": {},
   "cell_type": "markdown",
   "metadata": {},
   "source": [
    "By check the mean lyrics length of Eminem songs we can find our new lyrics max length."
   ]
  },
  {
   "cell_type": "code",
   "execution_count": 24,
   "metadata": {},
   "outputs": [
    {
     "data": {
      "text/plain": [
       "3269.0454545454545"
      ]
     },
     "execution_count": 24,
     "metadata": {},
     "output_type": "execute_result"
    }
   ],
   "source": [
    "lens = [len(lyric) for lyric in cleaned_lyrics]\n",
    "np.mean(lens)"
   ]
  },
  {
   "attachments": {},
   "cell_type": "markdown",
   "metadata": {},
   "source": [
    "For the text generation, we leave our *k* with 4. This means that we need at least 4 input characters to be able to generate new content."
   ]
  },
  {
   "cell_type": "code",
   "execution_count": 25,
   "metadata": {},
   "outputs": [],
   "source": [
    "lyrics_predict = generateText(\"Look \", char_model, max_len=4000, k=4)"
   ]
  },
  {
   "cell_type": "code",
   "execution_count": 26,
   "metadata": {},
   "outputs": [
    {
     "name": "stdout",
     "output_type": "stream",
     "text": [
      "Look me -- fuck a Rugers\n",
      "If yo' questin' do'\n",
      "But my side, twenty-five it\n",
      "The potions:\n",
      "13. \"Wanna man Probably real he sight one vexed\n",
      "That's like this shit, like scratchin' yet, you don't bitch\n",
      "Keep asking to camera\n",
      "Parket\n",
      "These same pedes\n",
      "I'm 'bout of serious when I was that or all Street; I wild number off right hole\n",
      "I got the bullshit? (No!)\n",
      "We polyps'll shot\n",
      "And the hey, we does onto more top us on my style for the fucking a miss you ain't was on\n",
      "I call my course same beat shit up on most no car like Georget points jerked eyebrown\n",
      "Only what big eyebrows\n",
      "You might also like \n",
      "I used to my rid on, ni-niggas when take it)\n",
      "Pour you count checks\n",
      "Till me to hypnotic, it's after pull of my venomous human the 'jectable plane\n",
      "If he stomach othere's got\n",
      "But I see cold, try, Marticle, to this soul\n",
      "Welcome words\n",
      "F around an odds watch never, dawg\n",
      "Freestyle\n",
      "\n",
      "Yo, but your your trave?\n",
      "Yours\n",
      "Prete giving (Yo)\n",
      "The Chewbaca's no one and we resort a gang of chroneral\n",
      "There's Greg with album come sent crunk it and up now, so cover existen the won't underine people tip Youngest of the Jackin' lyrics I message it start they ain't having but keep as I get wasn't fitter 'cause the push\n",
      "Us and sinners\n",
      "How when I lookin' a pitbullshit to back therfuckin' do? (Yeah I never gave your plan\n",
      "Tiki\n",
      "Girl, we he wear too class off a (Dahmer, a make hit some Big Pun\n",
      "Wanna punk\n",
      "You sound, drink\n",
      "Send avoid land, I’m all thout (Guzzles, bullshit, why I gets dull to just hole\n",
      "Now, we get mattent, but pickets release\n",
      "Dethrough, I puts your so love you scramblers do your changer MC from the reach fucker represent name\n",
      "And it's okay, tryna bunched up, and runnin' that's one in the marriage\n",
      "The road dead\n",
      "The mother a fake-ass it something\n",
      "And I candle, that I go?\n",
      "When chrome addities layin' gats (*slap his shit to was shit that make hired that the puts form of pile Road\n",
      "You might, you can let's talkin\n",
      "She game, hate alongers\n",
      "Dignital\n",
      "Yeah I got coming out (Guzzle it, Devil\n",
      "Innovatively me\n",
      "'Cause I'ma brain, I'll get class\n",
      "All you say in a sweet niggas, I'll he ain't shit\n",
      "You wanna her hands with the pure I would number her the sundial, richest fetuses to usin' and the mass over\" by drunk, your faces laying with concreaming of an audience to doin'?) Man, I'll her you\n",
      "If you don't know hard\n",
      "Burnin', I tryin', money said they head make ya robot, factors, shoes, don't handle it)\n",
      "Pour 40 out my freestyles, Pt IITime fireplyin' next, gotta go\n",
      "To this fucking you can't know the flow do my business\n",
      "And your genius, top a split\n",
      "Cutting that nigga fricance you want start rapperson, don’t someone who beast sticuffleupagus\n",
      "But it the Westwood!)\n",
      "We womens' feeding at ya ass rapped to cuss a worth my own and lived\n",
      "I said you action\n",
      "Where in this a needs, bit, even on thrown a Cheddar's to battlin' Puerto Rick came to Stat Quo\n",
      "Still in you better what eye so I'ma make it up date like still you a dozen tryna check that I go out it brothere I can seen Lawrence, or for ya run\n",
      "And traight might, list\n",
      "High-flyin'\n",
      "For spleen go any did\n",
      "Forty hot\n",
      "And that's goin' having\n",
      "Y'all no four-four Pac, on sometime twenty grown\n",
      "Off the day, the hard to give fool like the Lyrics are\n",
      "Me and Ms. Cleave ear, then\n",
      "With with Canada, niggas feel Me FlowPlayin' do?\n",
      "I'll shit mess\n",
      "Emine's of the walk the stomaching at you this big brows\n",
      "\n",
      "Walkin' with he glass are book; fucket\n",
      "It put you before than Corvetter, we in vain\n",
      "They don’t like zeros\n",
      "'Cause a far this suin' ever seen it and in her man take it also like, Tyrone, casualty to the busin\n",
      "I'm just kill follow)\n",
      "Only hot like\n",
      "Take hits for nostrack\n",
      "(I'm noddities her block, one people the playin' lyric versation\n",
      "I’m fuck median woments them hot suin' drugs with they was halfway this bitch up out, how if I was you before...\"\n",
      "\"Rhymes this my malt\n",
      "This near (Uh, bitch, and fly night be that yo you said, call past since I layin', them ho's in the flow\n",
      "At the green heave me boy she colla\n",
      "Fuckin' yo we know heir Jay Delta\"\n",
      "That'll the to give remember\n",
      "December the sta\n"
     ]
    }
   ],
   "source": [
    "file = open('output_text/' + uuid_song + \".txt\", \"w\")\n",
    "file.write(lyrics_predict)\n",
    "file.close()\n",
    "print(lyrics_predict)"
   ]
  },
  {
   "attachments": {},
   "cell_type": "markdown",
   "metadata": {},
   "source": [
    "## Conclusion and Further work\n",
    "Markov Chains are a great way to generate text language independent. Two big advantages by using this method are that there is no need for large input data and that the compution time for the model is very short. I think it is quite amazing how fast a language model can learn about sentences and grammar. \\\n",
    "By looking at our results, the model was able to use line breaks which structures our generated lyrics very well. Nevertheless, there is lots of room for improvement. One can hardly find ryhmes in the text and there is no context in the song text. \\\n",
    "One approach would be to change the hyperparamter *k* to get more related text lines. It is questionable whether by using larger character groups already existing phrases of songs will be reused as a result. Another idea would be to investigate more time in the preprocessing. One could analyze the ryhmes of the existing songs and select only unison rhymes as input text. I think that double rhymes or cross rhymes confuses the model because the connection of the text lines are too far apart. \\\n",
    "To sum up, I am happy with the result and I think that with more preprocessing or hyperparameter tuning a language model could rap like Eminem. Even if it takes a lot more than rhymes to create new songs."
   ]
  },
  {
   "attachments": {},
   "cell_type": "markdown",
   "metadata": {},
   "source": [
    "References: \n",
    "- [https://github.com/soniajoseph/MarkovLyric](https://github.com/soniajoseph/MarkovLyric) \n",
    "- [https://lyricsgenius.readthedocs.io](https://lyricsgenius.readthedocs.io) \n",
    "- [https://docs.genius.com/](https://docs.genius.com/) \n",
    "- [https://github.com/aryangulati/Character-Based-Language-Model](https://github.com/aryangulati/Character-Based-Language-Model) \n",
    "- [An Introduction to Markov Chains](http://dx.doi.org/10.13140/2.1.1833.8248)"
   ]
  }
 ],
 "metadata": {
  "kernelspec": {
   "display_name": "dat",
   "language": "python",
   "name": "python3"
  },
  "language_info": {
   "codemirror_mode": {
    "name": "ipython",
    "version": 3
   },
   "file_extension": ".py",
   "mimetype": "text/x-python",
   "name": "python",
   "nbconvert_exporter": "python",
   "pygments_lexer": "ipython3",
   "version": "3.10.6"
  },
  "orig_nbformat": 4,
  "vscode": {
   "interpreter": {
    "hash": "6177921d6dbe40f2bc44eae3a982408083db2dd1b6c3aa89d1cebb546f6ba67b"
   }
  }
 },
 "nbformat": 4,
 "nbformat_minor": 2
}
